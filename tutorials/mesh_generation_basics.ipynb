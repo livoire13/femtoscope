{
 "cells": [
  {
   "cell_type": "markdown",
   "id": "c85bfc16-f54a-41e4-8ef0-d472d163c616",
   "metadata": {},
   "source": [
    "<h1 style=\"text-align: center;\">Basics of Mesh Generation</h1>"
   ]
  },
  {
   "cell_type": "markdown",
   "id": "a2218130-96d8-4124-803a-0402ff4464f9",
   "metadata": {},
   "source": [
    "This Notebook is devoted to the generation of mesh in *femtoscope*. It mainly relies on two Python packages:\n",
    "- gmsh (4.11.1)\n",
    "- meshio (4.4.6)\n",
    "\n",
    "We will see how to generate meshes from scratch using the Gmsh Python API as well as the generation of meshes from pre-written .geo files (Gmsh's built-in scripting language).\n",
    "\n",
    "**Warning**: be sure to install the above-mentioned version of `meshio` as newer versions might cause errors.\n",
    "\n",
    "**If you have questions/comments or want to report a bug, please send me an email at <a href=\"mailto:hugo.levy@onera.fr\">hugo.levy@onera.fr</a>**"
   ]
  },
  {
   "cell_type": "code",
   "execution_count": 1,
   "id": "b7d07475-5193-41e4-a06c-0896e8b0f521",
   "metadata": {},
   "outputs": [
    {
     "name": "stdin",
     "output_type": "stream",
     "text": [
      "Once deleted, variables cannot be recovered. Proceed (y/[n])?  y\n"
     ]
    }
   ],
   "source": [
    "# Add femtoscope to the path\n",
    "%reset\n",
    "import sys\n",
    "sys.path.append(\"../\") # go to parent dir"
   ]
  },
  {
   "cell_type": "markdown",
   "id": "66015df4-46d1-45a5-b75e-87ce810579ea",
   "metadata": {},
   "source": [
    "## Physical groups handling in *femtoscope*\n",
    "\n",
    "*femtoscope* builds on top on the FEM package Sfepy, which is compatible with VTK *(Visualization Toolkit legacy file format)* mesh files. Gmsh allows the definition of *physical groups*, which is a convenient way of grouping model entities. Meshes in *femtoscope* must comply with the following numbering rules:\n",
    "- vertex entities must be numbered between 0 and 99\n",
    "- edge entities must be numbered between 100 and 199\n",
    "- facet entities must be numbered between 200 and 299\n",
    "- cell entities must be numbered from 300\n",
    "\n",
    "Please refer to https://sfepy.org/doc-devel/users_guide.html#regions for the definition of *vertex*, *edge*, *facet* and *cell*."
   ]
  },
  {
   "cell_type": "markdown",
   "id": "fcdaa4e4-83d7-4c82-875e-a0b2d6031195",
   "metadata": {},
   "source": [
    "## Mesh generation from scratch"
   ]
  },
  {
   "cell_type": "markdown",
   "id": "82804fdc-227c-4eaa-9e81-da2d3c13d4eb",
   "metadata": {},
   "source": [
    "### 1st example: meshing a rectangle\n",
    "\n",
    "The default numbering of entities in this case will be as follows:\n",
    "\n",
    "<img src=\"../images/rectangle_numbering.png\" alt=\"isolated\" width=\"400\"/>\n",
    "\n",
    "Suppose we will not make use of edges 200, 202 and 203. We can ignore these edges (or any other physical entity) with the argument `ignored_tags` passed to the `generate_mesh` method.\n"
   ]
  },
  {
   "cell_type": "code",
   "execution_count": 2,
   "id": "3c8e3b49-139a-4db0-a200-bb6311bb402c",
   "metadata": {},
   "outputs": [
    {
     "data": {
      "text/plain": [
       "'D:\\\\hlevy\\\\Documents\\\\microscope2\\\\femtoscope\\\\tutorials\\\\..\\\\data\\\\mesh\\\\rectangle.vtk'"
      ]
     },
     "execution_count": 2,
     "metadata": {},
     "output_type": "execute_result"
    }
   ],
   "source": [
    "from femtoscope.inout.meshfactory import MeshingTools\n",
    "\n",
    "meshfile = 'rectangle.vtk'\n",
    "mt = MeshingTools(2)\n",
    "mt.create_rectangle(xll=0, yll=-1, dx=5, dy=2, centered=False)\n",
    "mt.create_subdomain(cell_size_min=0.5, cell_size_max=0.5, dist_max=0.0)\n",
    "mt.generate_mesh(meshfile, show_mesh=True, unique_boundary_tags=False, ignored_tags=[200, 202, 203])"
   ]
  },
  {
   "cell_type": "markdown",
   "id": "cc2f514d-9ecc-43ef-82b0-41a5ebd096c6",
   "metadata": {},
   "source": [
    "The mesh is saved at the path printed just above.\n",
    "Rectangular meshes are particularly useful when working in polar coordinates $(r, \\theta)$ instead of the traditional Cartesian coordinates $(x, y)$. Indeed, a disk in Cartesian coordinates is mapped to a rectangle in polar coordinates. While a circle cannot be perfectly approximated by a finite set of straight line, a rectangle can!"
   ]
  },
  {
   "cell_type": "markdown",
   "id": "f8a296dc-8ec8-4c89-b762-b1e9e380f5e1",
   "metadata": {},
   "source": [
    "### 2nd example: Multiple cell groups"
   ]
  },
  {
   "cell_type": "code",
   "execution_count": 3,
   "id": "3c898806-502f-4641-bd2b-52b3c24d556e",
   "metadata": {},
   "outputs": [
    {
     "data": {
      "text/plain": [
       "'D:\\\\hlevy\\\\Documents\\\\microscope2\\\\femtoscope\\\\tutorials\\\\..\\\\data\\\\mesh\\\\disk.vtk'"
      ]
     },
     "execution_count": 3,
     "metadata": {},
     "output_type": "execute_result"
    }
   ],
   "source": [
    "from femtoscope.inout.meshfactory import MeshingTools\n",
    "\n",
    "symmetry = False\n",
    "Ngamma = 200\n",
    "Rcut = 5.0\n",
    "sa = 1.0\n",
    "sc = 0.5\n",
    "\n",
    "meshfile = 'disk.vtk'\n",
    "mt = MeshingTools(2)\n",
    "s1 = mt.create_ellipse(rx=sa, ry=sc)\n",
    "mt.create_subdomain(cell_size_min=0.03, cell_size_max=0.2, dist_min=0.0, dist_max=4.0)\n",
    "s2 = mt.create_ellipse(rx=Rcut, ry=Rcut)\n",
    "mt.subtract_shapes(s2, s1, removeObject=True, removeTool=False)\n",
    "mt.create_subdomain(cell_size_min=0.2, cell_size_max=0.2)\n",
    "mt.generate_mesh(meshfile, show_mesh=True, cylindrical_symmetry=True)"
   ]
  },
  {
   "cell_type": "markdown",
   "id": "4fa6d548-91fe-45fe-add2-b3235f31e3d6",
   "metadata": {},
   "source": [
    "Here, we made use of geometry/topology functions such as `create_ellipse` to create the central ellipse, or `subsract_shapes` to substract two topological entities."
   ]
  },
  {
   "cell_type": "markdown",
   "id": "e4c1e9ce-6ced-4143-a898-60bdd80a584d",
   "metadata": {},
   "source": [
    "## Mesh generation from .geo files\n",
    "\n",
    "Another way to generate a mesh suitable for *femtoscope* FEM computations is to start from an existing Gmsh geometry file. Such files have the .geo extension and some examples can be found in the directory `data\\mesh\\geo`. This feature is almost indispensable when dealing with complex geometries.\n",
    "\n",
    "In the example down below, we pass the argument `param_dic` to the function `mesh_from_geo` in order to directly modify some numerical values of the corresponding .geo file."
   ]
  },
  {
   "cell_type": "code",
   "execution_count": 4,
   "id": "29f7b1ed-21c2-49c2-8fdc-adef11d48e12",
   "metadata": {},
   "outputs": [
    {
     "data": {
      "text/plain": [
       "'D:\\\\hlevy\\\\Documents\\\\microscope2\\\\femtoscope\\\\tutorials\\\\..\\\\data\\\\mesh\\\\mesh_theta.vtk'"
      ]
     },
     "execution_count": 4,
     "metadata": {},
     "output_type": "execute_result"
    }
   ],
   "source": [
    "from femtoscope.inout.meshfactory import generate_mesh_from_geo\n",
    "\n",
    "Rcut = 5.0\n",
    "sa = 1.0\n",
    "sc = 0.5\n",
    "generate_mesh_from_geo('mesh_theta.geo', show_mesh=True, param_dict={'size' : 0.1, 'Rc' : Rcut, 'sa' : sa})"
   ]
  },
  {
   "cell_type": "markdown",
   "id": "b0e5f8c4-cf46-451f-bd8f-d0652ba3b18b",
   "metadata": {},
   "source": [
    "## The specific case of 1D meshes\n",
    "\n",
    "Contrary to 2D and 3D meshes, 1D meshes are not generated using Gmsh. Instead, we rely on some Sfepy built-in functions to achieve this."
   ]
  },
  {
   "cell_type": "code",
   "execution_count": 5,
   "id": "dd6107d5-7e0a-4a8b-a422-31e7288ef1f8",
   "metadata": {},
   "outputs": [
    {
     "name": "stdout",
     "output_type": "stream",
     "text": [
      "Mesh:mesh_1d\n",
      "  _coors:\n",
      "    (501, 1) array of float64\n",
      "  cmesh:\n",
      "    CMesh: n_coor: 501, dim 1, tdim: 1, n_el 500\n",
      "  cmesh_tdim:\n",
      "    list: [None, <sfepy.discrete.common.extmods.cmesh.CMesh object at 0x0000029E7F2EBB00>, None, None]\n",
      "  descs:\n",
      "    list: ['1_2']\n",
      "  dim:\n",
      "    1\n",
      "  dims:\n",
      "    list: [1]\n",
      "  io:\n",
      "    None\n",
      "  n_el:\n",
      "    500\n",
      "  n_nod:\n",
      "    501\n",
      "  name:\n",
      "    mesh_1d\n",
      "  nodal_bcs:\n",
      "    dict with keys: []\n"
     ]
    }
   ],
   "source": [
    "from femtoscope.inout.meshfactory import generate_uniform_1d_mesh\n",
    "\n",
    "mesh1D = generate_uniform_1d_mesh(0, Rcut, 500 + 1, 'mesh_1d')\n",
    "print(mesh1D)"
   ]
  },
  {
   "cell_type": "markdown",
   "id": "dc9e6717-da30-4a8c-b773-e9e18c61c7ad",
   "metadata": {},
   "source": [
    "Note that the mesh is not saved in `data\\mesh\\` but is nonetheless accessible through the variable `mesh1D`."
   ]
  }
 ],
 "metadata": {
  "kernelspec": {
   "display_name": "Python 3 (ipykernel)",
   "language": "python",
   "name": "python3"
  },
  "language_info": {
   "codemirror_mode": {
    "name": "ipython",
    "version": 3
   },
   "file_extension": ".py",
   "mimetype": "text/x-python",
   "name": "python",
   "nbconvert_exporter": "python",
   "pygments_lexer": "ipython3",
   "version": "3.9.16"
  }
 },
 "nbformat": 4,
 "nbformat_minor": 5
}
