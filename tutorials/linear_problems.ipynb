{
 "cells": [
  {
   "cell_type": "markdown",
   "id": "a9cde3c2-6149-40b6-98ad-191300a1f3b7",
   "metadata": {},
   "source": [
    "<h1 style=\"text-align: center;\">Solving Linear Problems with <em>femtoscope<em></h1>"
   ]
  },
  {
   "cell_type": "markdown",
   "id": "65a55634-5cc1-4d15-ba33-b7c06a211a50",
   "metadata": {},
   "source": [
    "This notebook shows how to solve linear PDE problems with *femtoscope*.\n",
    "\n",
    "*prerequisites* :\n",
    "- FEM knowledge\n",
    "- `mesh_generation_basics` notebook\n",
    "\n",
    "**If you have questions/comments or want to report a bug, please send me an email at <a href=\"mailto:hugo.levy@onera.fr\">hugo.levy@onera.fr</a>**"
   ]
  },
  {
   "cell_type": "code",
   "execution_count": 1,
   "id": "2ffe5a40-237e-429b-b848-6b50fa0b10d4",
   "metadata": {},
   "outputs": [
    {
     "name": "stdin",
     "output_type": "stream",
     "text": [
      "Once deleted, variables cannot be recovered. Proceed (y/[n])?  y\n"
     ]
    }
   ],
   "source": [
    "# Add femtoscope to the path\n",
    "%reset\n",
    "%matplotlib inline\n",
    "import sys\n",
    "sys.path.append(\"../\") # go to parent dir"
   ]
  },
  {
   "cell_type": "code",
   "execution_count": 2,
   "id": "fd11bf00-a64b-46c6-87cf-78359a32e12a",
   "metadata": {},
   "outputs": [],
   "source": [
    "# Standard imports\n",
    "import numpy as np\n",
    "from matplotlib import pyplot as plt\n",
    "from sfepy.base.base import output\n",
    "\n",
    "output.set_output(quiet=True)  # Toggle for Sfepy console's messages"
   ]
  },
  {
   "cell_type": "markdown",
   "id": "8d690770-5b2d-47a2-bd78-f0c5f82d6ef4",
   "metadata": {},
   "source": [
    "## Model problem: Poisson's equation\n",
    "\n",
    "### Strong form\n",
    "\n",
    "Given a domain $\\Omega$ with boundary $\\Gamma$, we wish to solve the following problem\n",
    "$$\n",
    "\\begin{cases} \n",
    "  \\Delta u = \\alpha \\rho & \\text{in } \\Omega\\\\\n",
    "  u(\\mathbf{x}) = g(\\mathbf{x}) & \\text{for } \\mathbf{x} \\in \\Gamma\n",
    "\\end{cases} \\quad ,\n",
    "$$\n",
    "which is simply a Poisson's equation subjected to some Dirichlet boundary condition. In the framework of Newtonian gravity, this equation is satisfied by the so-called Newtonian Potential (and we set $\\alpha = 4 \\pi G$). In electrostatics, it is satisfied by the electric potential (and we set $-1/\\varepsilon_0$).\n",
    "\n",
    "**Warning** Note that here, the Laplacian symbol $\\Delta$ refers to the standard 3-dimensional Laplacian operator, i.e. such that $$ \\Delta u = \\frac{\\partial^2 u}{\\partial x^2} + \\frac{\\partial^2 u}{\\partial y^2} + \\frac{\\partial^2 u}{\\partial z^2} \\, .$$ What is advertized as '1D computation' and '2D computation' down below result from dimensional reduction allowed by some symmetry in the density distribution [1].\n",
    "\n",
    "[1] https://arxiv.org/abs/2209.07226\n",
    "\n",
    "### Weak formulation\n",
    "\n",
    "The weak formulation of the above problem is:\n",
    "$$\n",
    "\\text{Find } u \\in H^1(\\Omega) \\text{ such that for all } v \\in H_0^1(\\Omega) \\, , \\quad \\int_{\\Omega} \\boldsymbol{\\nabla} u \\cdot \\boldsymbol{\\nabla} v \\, \\mathrm{d} \\mathbf{x} + \\alpha \\int_{\\Omega} \\rho v \\, \\mathrm{d} \\mathbf{x} = 0\n",
    "$$"
   ]
  },
  {
   "cell_type": "markdown",
   "id": "42d23d66-4b8f-415c-8d4a-00d5aab479dc",
   "metadata": {},
   "source": [
    "## A first implementation \"by hand\"\n",
    "\n",
    "### 1) Assuming spherical symmetry\n",
    "\n",
    "Let us start with a simpler problem where the density distribution $\\rho(\\mathbf{x})$ depends only on the radial distance $r \\coloneqq \\|\\mathbf{x}\\|_2$. Rewritting the PDE in this new variable yields\n",
    "$$ \\frac{1}{r^2} \\frac{\\mathrm{d}}{\\mathrm{d}r} \\left( r^2 \\frac{\\mathrm{d}u}{\\mathrm{d}r} \\right) = \\alpha \\rho(r) \\quad \\text{so that} \\quad\n",
    "\\frac{\\mathrm{d}}{\\mathrm{d}r} \\left( r^2 \\frac{\\mathrm{d}u}{\\mathrm{d}r} \\right) = \\alpha \\, r^2 \\rho(r) \\ .$$\n",
    "The weak formulation becomes\n",
    "$$ \\int_{r=0}^{R_c} r^2 \\, u'(r) v'(r) \\, \\mathrm{d} r + \\alpha \\int_{r=0}^{R_c} r^2 \\rho(r) v \\, \\mathrm{d}r = 0$$\n",
    "\n",
    "In *femtoscope*, such weak formulations are represented using the class `WeakForm`. Let us show how to construct an instance of this class associated with this radial 1D weak formulation.\n",
    "In the following, we set $R_c = 5$, $\\alpha = 1$ and suppose that $\\rho$ has support $[0, 1]$. We futher assume homogeneous Dirichlet boundary conditions at the boundary $r = R_c$, that is $u(R_c) = 0$."
   ]
  },
  {
   "cell_type": "code",
   "execution_count": 3,
   "id": "edb4c067-a317-404a-9e91-e700353002e0",
   "metadata": {},
   "outputs": [],
   "source": [
    "Rc = 5\n",
    "alpha = 1.0\n",
    "def rho(r):\n",
    "    return np.where(r <= 1, 1.0, 0.0)"
   ]
  },
  {
   "cell_type": "markdown",
   "id": "f1083fd8-c150-4e87-904f-149f1824500f",
   "metadata": {},
   "source": [
    "#### Mesh generation\n",
    "\n",
    "Generating 1D mesh is demonstrated in the `mesh_generation_basics` notebook"
   ]
  },
  {
   "cell_type": "code",
   "execution_count": 4,
   "id": "dbd30ee8-78f2-4d81-aa7c-dbebd18bd80a",
   "metadata": {},
   "outputs": [],
   "source": [
    "from femtoscope.inout.meshfactory import generate_uniform_1d_mesh\n",
    "pre_mesh = generate_uniform_1d_mesh(0, Rc, 501, 'mesh_1d')"
   ]
  },
  {
   "cell_type": "markdown",
   "id": "29ba38a5-35e6-4f1a-afe2-69cc89671e16",
   "metadata": {},
   "source": [
    "#### Implementing terms\n",
    "\n",
    "In *femtoscope*, the syntax for implementing terms appearing in the weak formulation is very much akin to that of Sfepy."
   ]
  },
  {
   "cell_type": "code",
   "execution_count": 5,
   "id": "185d369f-fff1-45c0-8eb4-e27337d917c5",
   "metadata": {},
   "outputs": [],
   "source": [
    "from femtoscope.core.pre_term import PreTerm\n",
    "\n",
    "# Definition of a 'material', corresponding to the r^2 factor appearing in the integrals\n",
    "def mat1(ts, coors, mode=None, **kwargs):\n",
    "    if mode != 'qp': return\n",
    "    r = coors.squeeze()\n",
    "    val = r**2\n",
    "    return {'val': val.reshape(-1, 1, 1)}\n",
    "\n",
    "def mat2(ts, coors, mode=None, **kwargs):\n",
    "    if mode != 'qp': return\n",
    "    r = coors.squeeze()\n",
    "    val = r**2 * rho(r)\n",
    "    return {'val': val.reshape(-1, 1, 1)}\n",
    "    \n",
    "t1 = PreTerm('dw_laplace', mat=mat1)\n",
    "t2 = PreTerm('dw_integrate', mat=mat2, prefactor=alpha)\n",
    "pre_terms = [t1, t2]"
   ]
  },
  {
   "cell_type": "markdown",
   "id": "36e83143-2503-4b63-8f13-73e599805e11",
   "metadata": {},
   "source": [
    "We used `dw_laplace` for the $\\int r^2 u' v' \\mathrm{d}r$ term, and `dw_integrate` for the $\\int r^2 \\rho v \\mathrm{d}r$ term. The list of all available terms can be consulted at [2]\n",
    "\n",
    "[2] https://sfepy.org/doc-devel/terms_overview.html"
   ]
  },
  {
   "cell_type": "markdown",
   "id": "231d0817-a01a-47b2-a4fe-6eb5d896a023",
   "metadata": {},
   "source": [
    "#### Entity selection\n",
    "In order to apply the Dirichlet boundary condition $u(R_c) = 0$, we need to be able to somehow 'select' this boundary. This can be done manually as"
   ]
  },
  {
   "cell_type": "code",
   "execution_count": 6,
   "id": "17035321-a083-4ae4-b64d-b8df592f44be",
   "metadata": {},
   "outputs": [],
   "source": [
    "def right_boundary(coors, domain=None):\n",
    "    return np.where(coors.squeeze() == Rc)[0]\n",
    "\n",
    "# To register the right boundary as an entity, we use the 'dim_func_entities' variable.\n",
    "# It contains tuples of the form (dimension of the entity, function, tag)\n",
    "dim_func_entities = [(0, right_boundary, 0)]"
   ]
  },
  {
   "cell_type": "markdown",
   "id": "d82db263-c158-4d9e-ad37-14be815d0ef1",
   "metadata": {},
   "source": [
    "#### Creation of the `WeakForm` instance"
   ]
  },
  {
   "cell_type": "code",
   "execution_count": 7,
   "id": "a422b150-2b0a-476a-a4d1-854bc9843252",
   "metadata": {},
   "outputs": [],
   "source": [
    "from femtoscope.core.weak_form import WeakForm\n",
    "\n",
    "args_dict = {\n",
    "    'dim': 1,  # Dimension of the weak form\n",
    "    'pre_mesh': pre_mesh,  # Mesh\n",
    "    'pre_ebc_dict': {('vertex', 0): 0.0},  # Dictionary specifying Dirichlet boundary conditions\n",
    "    'pre_terms': pre_terms,  # The terms of the weak formulation\n",
    "    'dim_func_entities': dim_func_entities,  # Entity definition by means of a function\n",
    "    'fem_order': 2  # Order of the Lagrange elements\n",
    "}\n",
    "\n",
    "wf = WeakForm.from_scratch(args_dict)"
   ]
  },
  {
   "cell_type": "markdown",
   "id": "06ae21f3-eb40-4cfd-a6b8-ac378030861f",
   "metadata": {},
   "source": [
    "#### Solving stage\n",
    "Now that the `WeakForm` instance is set, it is straight forward to solve the problem."
   ]
  },
  {
   "cell_type": "code",
   "execution_count": 8,
   "id": "3a6eaa28-d074-4630-a9cb-29f61b6d518c",
   "metadata": {},
   "outputs": [],
   "source": [
    "from femtoscope.core.solvers import LinearSolver\n",
    "\n",
    "solver = LinearSolver({'wf_int': wf})\n",
    "solver.solve()"
   ]
  },
  {
   "cell_type": "code",
   "execution_count": 9,
   "id": "40fe09a9-0cd0-4a3b-aeb0-b6b902de902a",
   "metadata": {},
   "outputs": [
    {
     "data": {
      "image/png": "[encoded data removed]",
      "text/plain": [
       "<Figure size 1000x400 with 2 Axes>"
      ]
     },
     "metadata": {},
     "output_type": "display_data"
    }
   ],
   "source": [
    "# Plot the obtained solution together with its gradient\n",
    "\n",
    "r = wf.field.coors.squeeze()\n",
    "sol = solver.sol\n",
    "grad = wf.field.evaluate_at(r[:, np.newaxis], sol[:, np.newaxis], mode='grad').squeeze()\n",
    "\n",
    "fig, axs = plt.subplots(figsize=(10, 4), nrows=1, ncols=2)\n",
    "axs[0].scatter(r, sol)\n",
    "axs[0].set_xlabel(\"r\", fontsize=15)\n",
    "axs[0].set_ylabel(\"FEM solution\", fontsize=15)\n",
    "axs[1].scatter(r, grad)\n",
    "axs[1].set_xlabel(\"r\", fontsize=15)\n",
    "axs[1].set_ylabel(\"Gradient\", fontsize=15)\n",
    "fig.subplots_adjust(wspace=0.3)\n",
    "plt.show()"
   ]
  },
  {
   "cell_type": "markdown",
   "id": "45855b1d-71a3-42b1-89de-90856d9a2ea5",
   "metadata": {},
   "source": [
    "### 2) Assuming cylindrical symmetry\n",
    "\n",
    "We can make this example a bit more complex by only assuming cylindrical symmetry on $\\rho$. If we denote the cylindrical coordinate system by $(x, \\varphi, z)$, we obtain the weak formulation\n",
    "$$ \\int_{\\tilde{\\Omega}} x \\tilde{\\boldsymbol{\\nabla}} u \\cdot \\tilde{\\boldsymbol{\\nabla}} v \\, \\mathrm{d}x \\mathrm{d}z + \\alpha \\int_{\\tilde{\\Omega}} x \\rho(x, z) v \\, \\mathrm{d}x \\mathrm{d}z = 0 \\ ,$$\n",
    "where $\\tilde{\\Omega} = \\{(x, z) \\text{ such that } \\sqrt{x^2 + z^2} < R_c \\}$ and $\\tilde{\\boldsymbol{\\nabla}}$ denotes the reduced gradient operator such that $\\tilde{\\boldsymbol{\\nabla}} u = (\\partial_x u , \\, \\partial_z u)^T$."
   ]
  },
  {
   "cell_type": "markdown",
   "id": "ce89fd74-19b8-4e6b-9084-943b0b17bf15",
   "metadata": {},
   "source": [
    "#### Mesh generation\n",
    "\n",
    "The mesh for this problem is a 2D mesh. We demonstrate how to generate it using the `MeshingTools` class. Here, the support of $\\rho$ is assumed to be an ellipse."
   ]
  },
  {
   "cell_type": "code",
   "execution_count": 14,
   "id": "56caabfa-6d3d-46bd-8d23-3abd6cb53c88",
   "metadata": {},
   "outputs": [],
   "source": [
    "from femtoscope.inout.meshfactory import MeshingTools\n",
    "\n",
    "mt = MeshingTools(2)\n",
    "s1 = mt.create_ellipse(rx=1.2, ry=0.6)\n",
    "mt.create_subdomain(cell_size_min=0.05, cell_size_max=0.2,\n",
    "                    dist_min=0, dist_max=4)\n",
    "s2 = mt.create_ellipse(rx=5, ry=5)\n",
    "mt.subtract_shapes(s2, s1, removeObject=True, removeTool=False)\n",
    "mt.create_subdomain(cell_size_min=0.2, cell_size_max=0.2)\n",
    "pre_mesh = mt.generate_mesh('mesh_test_potential.vtk', show_mesh=True, cylindrical_symmetry=True)"
   ]
  },
  {
   "cell_type": "markdown",
   "id": "aeb4c5cb-83b5-4ef3-b56a-9c84aa2b23ac",
   "metadata": {},
   "source": [
    "#### Entity selection\n",
    "The entity selection with higher dimensional meshes (`dim >= 2`) is easier as topological entities of interest can be specified in the mesh file itself as physical groups (see `mesh_generation_basics` notebook). In *femtoscope*, regions are automatically saved (based on the registered physical groups) and can be accessed with their **region_key**. A region key is a tuple of the form `('type', no)`. As a reminder, here are the accepted types together with valid number:\n",
    "- vertex entities `'vertex'` must be numbered between 0 and 99\n",
    "- edge entities `'edge'` must be numbered between 100 and 199\n",
    "- facet entities `'facet'` must be numbered between 200 and 299\n",
    "- cell entities `'subomega'` must be numbered from 300"
   ]
  },
  {
   "cell_type": "markdown",
   "id": "1870a0c6-851b-48c8-8232-ca60de9fd167",
   "metadata": {},
   "source": [
    "#### Implementing terms\n",
    "\n",
    "The implementation of terms is similar to the 1D radial case."
   ]
  },
  {
   "cell_type": "code",
   "execution_count": 13,
   "id": "ed6214bf-e604-4b51-9d48-c5a73ef10159",
   "metadata": {},
   "outputs": [],
   "source": [
    "def mat(ts, coors, mode=None, **kwargs):\n",
    "    if mode != 'qp': return\n",
    "    x = coors[:, 0]\n",
    "    val = abs(x)\n",
    "    return {'val': val.reshape(-1, 1, 1)}\n",
    "\n",
    "t1 = PreTerm('dw_laplace', mat=mat)\n",
    "t2 = PreTerm('dw_integrate', mat=mat, region_key=('subomega', 300))\n",
    "pre_terms = [t1, t2]"
   ]
  },
  {
   "cell_type": "markdown",
   "id": "d8fd2bf5-f334-4516-b3c4-39aee76591e7",
   "metadata": {},
   "source": [
    "#### `WeakForm` creation and solving"
   ]
  },
  {
   "cell_type": "code",
   "execution_count": 15,
   "id": "38724a9f-179a-4c7d-bf37-6b210a9b8759",
   "metadata": {},
   "outputs": [],
   "source": [
    "# Creation of the weak form\n",
    "args_dict = {'dim': 2, 'pre_mesh': pre_mesh,\n",
    "             'pre_ebc_dict': {('facet', 201): 0.0},\n",
    "             'pre_terms': pre_terms,\n",
    "             'fem_order': 2,\n",
    "             }\n",
    "wf = WeakForm.from_scratch(args_dict)\n",
    "\n",
    "# Setting a linear solver and solving the problem\n",
    "solver = LinearSolver({'wf_int': wf})\n",
    "solver.solve()"
   ]
  },
  {
   "cell_type": "markdown",
   "id": "8bfdd71d-446a-4923-9c1b-1d1ec70cccca",
   "metadata": {},
   "source": [
    "#### Post-Processing\n",
    "\n",
    "Post-processing in dimension `dim > 1` is a bit more complex. *femtoscope* features some tools in this regard."
   ]
  },
  {
   "cell_type": "code",
   "execution_count": null,
   "id": "8418f94c-0cb4-4abd-b58e-d2d119fc325f",
   "metadata": {},
   "outputs": [],
   "source": [
    "# Visualize the solution\n",
    "import pyvista as pv\n",
    "pv.set_jupyter_backend('trame')\n",
    "solver.display_results()"
   ]
  },
  {
   "cell_type": "markdown",
   "id": "8801a236-7d4e-4e96-817e-d187d70208b2",
   "metadata": {},
   "source": [
    "Results can be also be saved to VTK files to allow for an offline post-process, e.g. with **Paraview** software.\n",
    "The default location is `femtoscope\\\\data\\\\tmp`"
   ]
  },
  {
   "cell_type": "code",
   "execution_count": 16,
   "id": "053b22b9-f48f-4279-8fc2-8c596560f0dd",
   "metadata": {},
   "outputs": [],
   "source": [
    "solver.save_results_to_vtk('test.vtk')"
   ]
  },
  {
   "cell_type": "markdown",
   "id": "6d4fdb96-ba0c-4347-b12a-62b126de68d0",
   "metadata": {},
   "source": [
    "More advanced feature regarding saving & offline post-processing are demonstrated in the `offline_postprocessing` notebook."
   ]
  }
 ],
 "metadata": {
  "kernelspec": {
   "display_name": "Python 3 (ipykernel)",
   "language": "python",
   "name": "python3"
  },
  "language_info": {
   "codemirror_mode": {
    "name": "ipython",
    "version": 3
   },
   "file_extension": ".py",
   "mimetype": "text/x-python",
   "name": "python",
   "nbconvert_exporter": "python",
   "pygments_lexer": "ipython3",
   "version": "3.9.19"
  }
 },
 "nbformat": 4,
 "nbformat_minor": 5
}
