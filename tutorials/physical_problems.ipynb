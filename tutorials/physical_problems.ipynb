{
 "cells": [
  {
   "cell_type": "markdown",
   "id": "08033eb9-8494-4eef-9fd3-ef81305d2a0f",
   "metadata": {},
   "source": [
    "<h1 style=\"text-align: center;\">The 'physics' package</h1>"
   ]
  },
  {
   "cell_type": "markdown",
   "id": "2eb86da6-6c6a-4fb7-bd8c-7149f61fe4f5",
   "metadata": {},
   "source": [
    "This notebook shows how to use *femtoscope* `physics` package to avoid having to define the weak form 'by hand'.\n",
    "\n",
    "*prerequisites* :\n",
    "- FEM knowledge\n",
    "- `mesh_generation_basics` notebook\n",
    "\n",
    "**If you have questions/comments or want to report a bug, please send me an email at <a href=\"mailto:hugo.levy@onera.fr\">hugo.levy@onera.fr</a>**"
   ]
  },
  {
   "cell_type": "code",
   "execution_count": 1,
   "id": "2fc5bb8c-7be4-4213-9cf6-c0e7f06daac5",
   "metadata": {},
   "outputs": [
    {
     "name": "stdin",
     "output_type": "stream",
     "text": [
      "Once deleted, variables cannot be recovered. Proceed (y/[n])?  y\n"
     ]
    }
   ],
   "source": [
    "# Add femtoscope to the path\n",
    "%reset\n",
    "%matplotlib inline\n",
    "import sys\n",
    "sys.path.append(\"../\") # go to parent dir"
   ]
  },
  {
   "cell_type": "markdown",
   "id": "270128b9-99e3-421d-9f06-6e70df9a3e10",
   "metadata": {},
   "source": [
    "## `femtoscope.physics`\n",
    "\n",
    "The package `femtoscope.physics` contains two modules:\n",
    "- `material_library`. It is a library of material functions, sorted by type (laplace term, density term, nonlinear term, etc.), accessible by the dimension and a coordinate system.\n",
    "- `physical_problems`. Module where weak forms of recurrent problems are registered. All the material functions are accessed from the `material_library`. The currently implemented physical problems are the Poisson problem (class `Poisson`) and the Chameleon field equation (class `Chameleon`). They are in charge of constructing the relevant weak forms (`wf_int`, `wf_ext` for solving the PDE on an unbounded domain, `wf_residual` when the problem at stake is nonlinear), setting a default solver (`LinearSolver` or `NonLinearSolver` instance) and a default monitor (`NonLinearMonitor` instance when the problem at stake is nonlinear). This is where new physical problems are to be defined.\n",
    "\n",
    "In this notebook, we showcase the `physical_problems` module."
   ]
  },
  {
   "cell_type": "markdown",
   "id": "2a763793-a203-4e4f-b134-4f43c9724b92",
   "metadata": {},
   "source": [
    "## Poisson problem on unbounded domain made easy\n",
    "\n",
    "Here, we compute the gravitational potential created by an oblate spheroid"
   ]
  },
  {
   "cell_type": "code",
   "execution_count": 2,
   "id": "79d35ebb-9a3a-4ae5-823c-864e1d791bc9",
   "metadata": {},
   "outputs": [
    {
     "name": "stdout",
     "output_type": "stream",
     "text": [
      "install jax and jaxlib to use terms_jax.py!\n",
      "sfepy: WARNING: module C:\\Anaconda3\\envs\\phd\\Lib\\site-packages\\sfepy\\terms\\terms_jax.py cannot be imported!\n",
      "sfepy: reason:\n",
      " cannot import name 'config' from 'jax.config' (C:\\Anaconda3\\envs\\phd\\lib\\site-packages\\jax\\config.py)\n"
     ]
    }
   ],
   "source": [
    "# Module imports\n",
    "import numpy as np\n",
    "from numpy import pi\n",
    "from femtoscope.physics.physical_problems import Poisson, Chameleon\n",
    "from femtoscope.inout.meshfactory import MeshingTools"
   ]
  },
  {
   "cell_type": "code",
   "execution_count": 5,
   "id": "5c704eec-666f-455c-9bbf-a94297459a35",
   "metadata": {},
   "outputs": [],
   "source": [
    "# parameters\n",
    "sa = 1.2\n",
    "sc = 0.8\n",
    "Rc = 5.0\n",
    "alpha = 4*pi\n",
    "meshint_name = 'mesh_sphere_int.vtk'\n",
    "meshext_name = 'mesh_sphere_ext.vtk'\n",
    "fem_order = 2\n",
    "dim = 2\n",
    "coorsys = 'cylindrical'\n",
    "\n",
    "# Meshes\n",
    "def get_pre_meshes():\n",
    "    return mesh2dcyl_int(), mesh2dcyl_ext()\n",
    "\n",
    "def mesh2dcyl_int():\n",
    "    mt = MeshingTools(2)\n",
    "    s1 = mt.create_ellipse(rx=sa, ry=sc)\n",
    "    mt.create_subdomain(cell_size_min=0.05, cell_size_max=0.2, dist_min=0.0, dist_max=4.0)\n",
    "    s2 = mt.create_disk_from_pts(Rc, N=200)\n",
    "    mt.subtract_shapes(s2, s1, removeObject=True, removeTool=False)\n",
    "    mt.create_subdomain(cell_size_min=0.2, cell_size_max=0.2)\n",
    "    return mt.generate_mesh(meshint_name, cylindrical_symmetry=True, show_mesh=True, ignored_tags=[200])\n",
    "\n",
    "def mesh2dcyl_ext():\n",
    "    mt = MeshingTools(2)\n",
    "    mt.create_disk_from_pts(Rc, N=200)\n",
    "    mt.create_subdomain(cell_size_min=0.2, cell_size_max=0.2)\n",
    "    origin_rf = [0.07, 0.2, 0.1, 3.0]\n",
    "    return mt.generate_mesh(meshext_name, cylindrical_symmetry=True, show_mesh=True, embed_origin=True, origin_rf=origin_rf)\n",
    "\n",
    "# Creation and setting of the 'Poisson' object\n",
    "poisson = Poisson({'alpha': alpha}, dim, Rc=Rc, coorsys=coorsys)\n",
    "pre_mesh_int, pre_mesh_ext = get_pre_meshes()\n",
    "partial_args_dict_int = {'dim': dim, 'name': 'wf_int', 'pre_mesh': pre_mesh_int, 'fem_order': fem_order}\n",
    "partial_args_dict_ext = {'dim': dim, 'name': 'wf_ext', 'pre_mesh': pre_mesh_ext, 'fem_order': fem_order}\n",
    "partial_args_dict_ext['pre_ebc_dict'] = {('vertex', 0): 0.0,}\n",
    "region_key_int = ('facet', 201)\n",
    "region_key_ext = ('facet', 200)\n",
    "poisson.set_wf_int(partial_args_dict_int, {('subomega', 300): 1.0})\n",
    "poisson.set_wf_ext(partial_args_dict_ext, density=None)\n",
    "poisson.set_default_solver(region_key_int=region_key_int,\n",
    "                           region_key_ext=region_key_ext)"
   ]
  },
  {
   "cell_type": "code",
   "execution_count": 4,
   "id": "9d5cceb7-d81f-474f-9168-acacec6fdfbd",
   "metadata": {},
   "outputs": [],
   "source": [
    "# Solving\n",
    "solver = poisson.default_solver\n",
    "solver.solve(use_reduced_mtx_vec=True)"
   ]
  },
  {
   "cell_type": "code",
   "execution_count": 5,
   "id": "54c0ae27-b6ca-4fb9-9fc3-b03014153fd9",
   "metadata": {},
   "outputs": [
    {
     "name": "stdout",
     "output_type": "stream",
     "text": [
      "[0.00051354 0.00069802 0.00051332 ... 0.0002993  0.00029934 0.00024164]\n"
     ]
    }
   ],
   "source": [
    "# Comparison against the analytical solution\n",
    "from femtoscope.misc.analytical import potential_ellipsoid\n",
    "import warnings\n",
    "warnings.filterwarnings('ignore')\n",
    "\n",
    "coors_int = solver.wf_int.field.coors\n",
    "coors_int[:, 0][np.where(coors_int[:, 0] < 0)[0]] = 0\n",
    "sol_fem_int = solver.sol_int\n",
    "sol_ana_int = potential_ellipsoid(coors_int, sa, 1.0, sc=sc, rho=1.0)\n",
    "err_rel_int = abs(sol_fem_int - sol_ana_int) / abs(sol_ana_int)\n",
    "print(err_rel_int)"
   ]
  },
  {
   "cell_type": "markdown",
   "id": "bd76c1e2-0748-4487-be3f-15d4298a15d9",
   "metadata": {},
   "source": [
    "## Chameleon problem on unbounded domain made easy\n",
    "\n",
    "Here, we compute the chameleon field sourced by the same flat ellipsoid"
   ]
  },
  {
   "cell_type": "code",
   "execution_count": null,
   "id": "f0bce359-158f-4205-9916-d176347c0d9c",
   "metadata": {},
   "outputs": [],
   "source": [
    "# parameters\n",
    "alpha = 0.1\n",
    "npot = 2\n",
    "rho_min = 1.0\n",
    "rho_max = 1e2\n",
    "phi_min = rho_max ** (-1 / (npot + 1))\n",
    "phi_max = rho_min ** (-1 / (npot + 1))\n",
    "\n",
    "# Creation and setting of the 'Chameleon' object\n",
    "chameleon = Chameleon({'alpha': alpha, 'npot': npot}, dim, Rc=Rc, coorsys=coorsys)\n",
    "partial_args_dict_ext['pre_ebc_dict'][('vertex', 0)] = phi_max\n",
    "chameleon.set_wf_int(partial_args_dict_int, {('subomega', 300): rho_max, ('subomega', 301): rho_min})\n",
    "chameleon.set_wf_residual(partial_args_dict_int, {('subomega', 300): rho_max, ('subomega', 301): rho_min})\n",
    "chameleon.set_wf_ext(partial_args_dict_ext, density=rho_min)\n",
    "chameleon.set_default_solver()\n",
    "chameleon.set_default_monitor(10)"
   ]
  },
  {
   "cell_type": "code",
   "execution_count": null,
   "id": "8cd95943-e244-468d-b132-13b82478bf26",
   "metadata": {},
   "outputs": [],
   "source": []
  },
  {
   "cell_type": "code",
   "execution_count": null,
   "id": "6974946f-0782-4e7a-bfb8-82287f79f295",
   "metadata": {},
   "outputs": [],
   "source": [
    "# Removing meshfiles\n",
    "from pathlib import Path\n",
    "from femtoscope import MESH_DIR\n",
    "Path(MESH_DIR / meshint_name).unlink()\n",
    "Path(MESH_DIR / meshext_name).unlink()"
   ]
  }
 ],
 "metadata": {
  "kernelspec": {
   "display_name": "Python 3 (ipykernel)",
   "language": "python",
   "name": "python3"
  },
  "language_info": {
   "codemirror_mode": {
    "name": "ipython",
    "version": 3
   },
   "file_extension": ".py",
   "mimetype": "text/x-python",
   "name": "python",
   "nbconvert_exporter": "python",
   "pygments_lexer": "ipython3",
   "version": "3.9.16"
  }
 },
 "nbformat": 4,
 "nbformat_minor": 5
}
