{
 "cells": [
  {
   "cell_type": "markdown",
   "id": "39a44638",
   "metadata": {},
   "source": [
    "<h1 style=\"text-align: center;\">Mesh Generation</h1>"
   ]
  },
  {
   "cell_type": "markdown",
   "id": "72db3fa8",
   "metadata": {},
   "source": [
    "This Notebook is devoted to the generation of mesh in *femtoscope*. It mainly relies on two Python packages:\n",
    "- gmsh (4.11.1)\n",
    "- meshio (4.4.6)\n",
    "\n",
    "We will see how to generate meshes from scratch using the Gmsh Python API (which is similar to what is done in SELCIE) as well as the generation of meshes from pre-written .geo files (Gmsh's built-in scripting language).\n",
    "\n",
    "**Warning**: be sure to install the above-mentioned version of `meshio` as newer versions might cause errors.\n",
    "\n",
    "**If you have questions/comments or want to report a bug, please send me an email at <a href=\"mailto:hugo.levy@onera.fr\">hugo.levy@onera.fr</a>**"
   ]
  },
  {
   "cell_type": "markdown",
   "id": "809fc585",
   "metadata": {},
   "source": [
    "## Physical groups handling in *femtoscope*\n",
    "\n",
    "*femtoscope* builds on top on the FEM package Sfepy, which is compatible with VTK *(Visualization Toolkit legacy file format)* mesh files. Gmsh allows the definition of *physical groups*, which is a convenient way of grouping model entities. Meshes in *femtoscope* must comply with the following numbering rules:\n",
    "- vertex entities must be numbered between 0 and 99\n",
    "- edge entities must be numbered between 100 and 199\n",
    "- facet entities must be numbered between 200 and 299\n",
    "- cell entities must be numbered from 300\n",
    "\n",
    "Please refer to https://sfepy.org/doc-devel/users_guide.html#regions for the definition of *vertex*, *edge*, *facet* and *cell*."
   ]
  },
  {
   "cell_type": "code",
   "execution_count": 1,
   "id": "625b5240",
   "metadata": {},
   "outputs": [],
   "source": [
    "# Add femtoscope to the path\n",
    "%reset\n",
    "import sys\n",
    "sys.path.append(\"../\") # go to parent dir"
   ]
  },
  {
   "cell_type": "markdown",
   "id": "bb0e37a6",
   "metadata": {},
   "source": [
    "## Mesh generation from scratch"
   ]
  },
  {
   "cell_type": "markdown",
   "id": "89da4e81",
   "metadata": {},
   "source": [
    "### 1st example: meshing a rectangle\n",
    "\n",
    "The default numbering of entities in this case will be as follows\n",
    "<img src=\"../images/rectangle_numbering.png\" alt=\"isolated\" width=\"400\"/>\n",
    "Suppose we will not make use of edges 200, 202 and 203. We can ignore these edges (or any other physical entity) with the argument `ignoreTags` passed to the `generate_mesh` method.\n"
   ]
  },
  {
   "cell_type": "code",
   "execution_count": 2,
   "id": "6a2ca907",
   "metadata": {
    "scrolled": true
   },
   "outputs": [
    {
     "name": "stdout",
     "output_type": "stream",
     "text": [
      "sfepy: reading mesh (D:\\hlevy\\Documents\\microscope2\\femtoscope\\script\\..\\data\\mesh\\rectangle.vtk)...\n",
      "sfepy:   number of vertices: 68\n",
      "sfepy:   number of cells:\n",
      "sfepy:     1_2: 28\n",
      "sfepy:     2_3: 106\n",
      "sfepy: ...done in 0.00 s\n"
     ]
    },
    {
     "data": {
      "text/plain": [
       "'D:\\\\hlevy\\\\Documents\\\\microscope2\\\\femtoscope\\\\script\\\\..\\\\data\\\\mesh\\\\rectangle.vtk'"
      ]
     },
     "execution_count": 2,
     "metadata": {},
     "output_type": "execute_result"
    }
   ],
   "source": [
    "from femtoscope.inout.meshfactory import MeshingTools\n",
    "\n",
    "meshfile = 'rectangle.vtk'\n",
    "MT = MeshingTools(dimension=2)\n",
    "MT.create_rectangle(xll=0, yll=-1, dx=5, dy=2, centered=False)\n",
    "MT.create_subdomain(CellSizeMin=0.5, CellSizeMax=0.5, DistMax=0.0)\n",
    "MT.generate_mesh(meshfile, show_mesh=True, unique_boundary=False,\n",
    "                 ignoreTags=[200, 202, 203])"
   ]
  },
  {
   "cell_type": "markdown",
   "id": "38c47615",
   "metadata": {},
   "source": [
    "The mesh is saved at the path printed just above.\n",
    "Rectangular meshes are particularly useful when working in polar coordinates $(r, \\theta)$ instead of the traditional Cartesian coordinates $(x, y)$. Indeed, a disk in Cartesian coordinates is mapped to a rectangle in polar coordinates. While a circle cannot be perfectly approximated by a finite set of straight line, a rectangle can!"
   ]
  },
  {
   "cell_type": "markdown",
   "id": "f529af4d",
   "metadata": {},
   "source": [
    "### 2nd example: Multiple cell groups"
   ]
  },
  {
   "cell_type": "code",
   "execution_count": 3,
   "id": "475dee04",
   "metadata": {},
   "outputs": [
    {
     "name": "stdout",
     "output_type": "stream",
     "text": [
      "sfepy: reading mesh (D:\\hlevy\\Documents\\microscope2\\femtoscope\\script\\..\\data\\mesh\\disk.vtk)...\n",
      "sfepy:   number of vertices: 6183\n",
      "sfepy:   number of cells:\n",
      "sfepy:     1_2: 296\n",
      "sfepy:     2_3: 12165\n",
      "sfepy: ...done in 0.03 s\n"
     ]
    },
    {
     "data": {
      "text/plain": [
       "'D:\\\\hlevy\\\\Documents\\\\microscope2\\\\femtoscope\\\\script\\\\..\\\\data\\\\mesh\\\\disk.vtk'"
      ]
     },
     "execution_count": 3,
     "metadata": {},
     "output_type": "execute_result"
    }
   ],
   "source": [
    "from femtoscope.inout.meshfactory import MeshingTools\n",
    "\n",
    "symmetry = False\n",
    "Ngamma = 200\n",
    "Rcut = 5.0\n",
    "sa = 1.0\n",
    "sc = 0.5\n",
    "\n",
    "meshfile = 'disk.vtk'\n",
    "MT = MeshingTools(dimension=2)\n",
    "s1 = MT.create_ellipse(sa, sc, xc=0, yc=0)\n",
    "MT.create_subdomain(CellSizeMin=0.05, CellSizeMax=0.2, DistMin=sa/5, DistMax=3*sa)\n",
    "s2 = MT.create_disk_from_pts(Rcut, N=Ngamma) # impose vertices on gamma\n",
    "s12 = MT.subtract_shapes(s2, s1, removeObject=True, removeTool=False)\n",
    "MT.create_subdomain(CellSizeMin=0.1, CellSizeMax=0.3, DistMax=0.0)\n",
    "MT.generate_mesh(meshfile, show_mesh=True, ignoreTags=[200], symmetry=symmetry, embed_center=False)"
   ]
  },
  {
   "cell_type": "markdown",
   "id": "9648863d",
   "metadata": {},
   "source": [
    "Here, we made use of geometry/topology functions such as `create_ellipse` to create the central ellipse, or `subsract_shapes` ti substract two topological entities."
   ]
  },
  {
   "cell_type": "markdown",
   "id": "b471acca",
   "metadata": {},
   "source": [
    "## Mesh generation from .geo files\n",
    "\n",
    "Another way to generate a mesh suitable for *femtoscope* FEM computations is to start from an existing Gmsh geometry file. Such files have the .geo extension and some examples can be found in the directory `data\\mesh\\geo`.\n",
    "\n",
    "In the example down below, we pass the argument `param_dic` to the function `mesh_from_geo` in order to directly modify some numerical values of the corresponding .geo file."
   ]
  },
  {
   "cell_type": "code",
   "execution_count": 4,
   "id": "034c26ae",
   "metadata": {},
   "outputs": [
    {
     "name": "stdout",
     "output_type": "stream",
     "text": [
      "sfepy: reading mesh (D:\\hlevy\\Documents\\microscope2\\femtoscope\\script\\..\\data\\mesh\\mesh_theta.vtk)...\n",
      "sfepy:   number of vertices: 1972\n",
      "sfepy:   number of cells:\n",
      "sfepy:     1_2: 32\n",
      "sfepy:     2_3: 3778\n",
      "sfepy: ...done in 0.02 s\n"
     ]
    },
    {
     "data": {
      "text/plain": [
       "'D:\\\\hlevy\\\\Documents\\\\microscope2\\\\femtoscope\\\\script\\\\..\\\\data\\\\mesh\\\\mesh_theta.vtk'"
      ]
     },
     "execution_count": 4,
     "metadata": {},
     "output_type": "execute_result"
    }
   ],
   "source": [
    "from femtoscope.inout.meshfactory import mesh_from_geo\n",
    "\n",
    "Rcut = 5.0\n",
    "sa = 1.0\n",
    "sc = 0.5\n",
    "mesh_from_geo('mesh_theta.geo', show_mesh=True, param_dic={'size' : 0.1, 'Rc' : Rcut, 'sa' : sa})"
   ]
  },
  {
   "cell_type": "markdown",
   "id": "86bf8584",
   "metadata": {},
   "source": [
    "## The specific case of 1D meshes\n",
    "\n",
    "Contrary to 2D and 3D meshes, 1D meshes are not generated using Gmsh. Instead, we rely on some Sfepy built-in functions to achieve this."
   ]
  },
  {
   "cell_type": "code",
   "execution_count": 5,
   "id": "06efc399",
   "metadata": {},
   "outputs": [],
   "source": [
    "from sfepy.examples.dg.example_dg_common import get_gen_1D_mesh_hook\n",
    "X1 = 0.0\n",
    "XN = Rcut\n",
    "n_nod = int(100*Rcut) + 1\n",
    "n_el = n_nod - 1\n",
    "mesh1D = get_gen_1D_mesh_hook(X1, XN, n_nod).read(None)"
   ]
  },
  {
   "cell_type": "markdown",
   "id": "fd0618b1",
   "metadata": {},
   "source": [
    "The mesh is not saved in `data\\mesh\\` but is nonetheless accessible through the variable `mesh1D`."
   ]
  }
 ],
 "metadata": {
  "kernelspec": {
   "display_name": "Python 3 (Spyder)",
   "language": "python3",
   "name": "python3"
  },
  "language_info": {
   "codemirror_mode": {
    "name": "ipython",
    "version": 3
   },
   "file_extension": ".py",
   "mimetype": "text/x-python",
   "name": "python",
   "nbconvert_exporter": "python",
   "pygments_lexer": "ipython3",
   "version": "3.9.16"
  }
 },
 "nbformat": 4,
 "nbformat_minor": 5
}
