{
 "cells": [
  {
   "cell_type": "markdown",
   "id": "332e6ebe-4f61-46cc-ac20-21264adfaa55",
   "metadata": {},
   "source": [
    "<h1 style=\"text-align: center;\">Offline Post-Processing with <em>femtoscope<em></h1>"
   ]
  },
  {
   "cell_type": "markdown",
   "id": "532275db-4d21-4d4b-9bd9-b3e7d2311443",
   "metadata": {},
   "source": [
    "This notebook shows how to post-process FEM computation results **offline**.\n",
    "\n",
    "*prerequisites* :\n",
    "- `mesh_generation_basics` notebook\n",
    "- `linear_problems` notebook\n",
    "\n",
    "**If you have questions/comments or want to report a bug, please send me an email at <a href=\"mailto:hugo.levy@onera.fr\">hugo.levy@onera.fr</a>**"
   ]
  },
  {
   "cell_type": "code",
   "execution_count": 1,
   "id": "842a73a5-0e35-4f83-8c27-1da9d5541118",
   "metadata": {},
   "outputs": [
    {
     "name": "stdin",
     "output_type": "stream",
     "text": [
      "Once deleted, variables cannot be recovered. Proceed (y/[n])?  y\n"
     ]
    }
   ],
   "source": [
    "# Add femtoscope to the path\n",
    "%reset\n",
    "%matplotlib inline\n",
    "import sys\n",
    "sys.path.append(\"../\") # go to parent dir"
   ]
  },
  {
   "cell_type": "markdown",
   "id": "766827d4-5e1d-4fae-b16a-de9c55d71e2e",
   "metadata": {},
   "source": [
    "## Motivations\n",
    "Right after solving a given PDE problem with *femtoscope*, the solution (together with other relevant fields) can be readily saved to a VTK file. This archive can be later consulted (e.g. using meshio in Python, or the Paraview software). The issue with this solution is that we loose interpolation using basis functions (especially when using Lagrange finite elements of order 2, 3 or more). In particular, it would be great if we could use the `evaluate_at()` method from Sfepy."
   ]
  },
  {
   "cell_type": "markdown",
   "id": "56d6280d-7f21-4958-bf05-8d461f99341f",
   "metadata": {},
   "source": [
    "## Implementation\n",
    "This feature has been implemented in femtoscope. The idea to make this work is to save some `solver` metadatas alongside the VTK files. These metadatas contain information to reconstruct (partially) the `WeakForm` instances that were used in the first place, allowing for the use of the correct FE basis functions."
   ]
  },
  {
   "cell_type": "markdown",
   "id": "45a43767-7a96-4a5f-b3aa-b13ca19870ed",
   "metadata": {},
   "source": [
    "## Example\n",
    "\n",
    "### Step 1: Saving Results\n",
    "\n",
    "Let us show how this is done in practice."
   ]
  },
  {
   "cell_type": "code",
   "execution_count": 2,
   "id": "417c1e4f-1bec-49ee-a7d7-98c534d006ed",
   "metadata": {},
   "outputs": [],
   "source": [
    "from femtoscope.physics.physical_problems import Poisson\n",
    "from femtoscope.inout.meshfactory import MeshingTools\n",
    "from numpy import pi\n",
    "\n",
    "alpha = 4*pi\n",
    "Rc = 5.0\n",
    "dim = 2\n",
    "sa = 1.2\n",
    "sc = 0.8\n",
    "coorsys = 'cylindrical'\n",
    "meshint_name = 'mesh_test_sphere_int.vtk'\n",
    "meshext_name = 'mesh_test_sphere_ext.vtk'\n",
    "\n",
    "def get_pre_meshes():\n",
    "    return mesh2dcyl_int(), mesh2dcyl_ext()\n",
    "\n",
    "def mesh2dcyl_int():\n",
    "    mt = MeshingTools(2)\n",
    "    s1 = mt.create_ellipse(rx=sa, ry=sc)\n",
    "    mt.create_subdomain(cell_size_min=0.05, cell_size_max=0.2,\n",
    "                        dist_min=0.0, dist_max=4.0)\n",
    "    s2 = mt.create_disk_from_pts(Rc, N=200)\n",
    "    mt.subtract_shapes(s2, s1, removeObject=True, removeTool=False)\n",
    "    mt.create_subdomain(cell_size_min=0.2, cell_size_max=0.2)\n",
    "    return mt.generate_mesh(meshint_name, cylindrical_symmetry=True,\n",
    "                            show_mesh=False, ignored_tags=[200])\n",
    "\n",
    "def mesh2dcyl_ext():\n",
    "    mt = MeshingTools(2)\n",
    "    mt.create_disk_from_pts(Rc, N=200)\n",
    "    mt.create_subdomain(cell_size_min=0.2, cell_size_max=0.2)\n",
    "    origin_rf = [0.07, 0.2, 0.1, 3.0]\n",
    "    return mt.generate_mesh(\n",
    "        meshext_name, cylindrical_symmetry=True, show_mesh=False,\n",
    "        embed_origin=True, origin_rf=origin_rf)\n",
    "\n",
    "poisson = Poisson({'alpha': alpha}, dim, Rc=Rc, coorsys=coorsys)\n",
    "pre_mesh_int, pre_mesh_ext = get_pre_meshes()\n",
    "partial_args_dict_int = {\n",
    "    'dim': dim,\n",
    "    'name': 'wf_int',\n",
    "    'pre_mesh': pre_mesh_int,\n",
    "    'fem_order': 2,\n",
    "}\n",
    "partial_args_dict_ext = {\n",
    "    'dim': dim,\n",
    "    'name': 'wf_ext',\n",
    "    'pre_mesh': pre_mesh_ext,\n",
    "    'fem_order': 2,\n",
    "}\n",
    "\n",
    "partial_args_dict_ext['pre_ebc_dict'] = {('vertex', 0): 0.0}\n",
    "region_key_int = ('facet', 201)\n",
    "region_key_ext = ('facet', 200)\n",
    "\n",
    "poisson.set_wf_int(partial_args_dict_int, {('subomega', 300): 1.0})\n",
    "poisson.set_wf_ext(partial_args_dict_ext, density=None)\n",
    "poisson.set_default_solver(region_key_int=region_key_int,\n",
    "                           region_key_ext=region_key_ext)\n",
    "\n",
    "solver = poisson.default_solver\n",
    "solver.solve()"
   ]
  },
  {
   "cell_type": "markdown",
   "id": "02218b73-79df-41ba-a0e4-261005954388",
   "metadata": {},
   "source": [
    "In order to save metadatas in addition to the VTK file, we use the `solver.save_results` method."
   ]
  },
  {
   "cell_type": "code",
   "execution_count": 3,
   "id": "8ff9d63c-2954-48eb-9c9c-43e6cc517999",
   "metadata": {},
   "outputs": [],
   "source": [
    "solver.save_results('test_offline_postprocessing')"
   ]
  },
  {
   "cell_type": "markdown",
   "id": "bc8221fa-5333-47dc-8142-8a48e2e1a27b",
   "metadata": {},
   "source": [
    "This created a folder named 'test_offline_postprocessing' in `femtoscope\\\\data\\\\result` containing:\n",
    "- .vtk files --> containing the solution vectors\n",
    "- .pkl files --> files created using the `pickle` module and containing solver metadatas for reconstructing the weak forms"
   ]
  },
  {
   "cell_type": "markdown",
   "id": "0ecba105-128f-4005-82d9-3e18fed0704f",
   "metadata": {},
   "source": [
    "### Step 2) Post-process offline & Enjoy\n",
    "To simulate an offline configuration, we delete all FEM-related variables "
   ]
  },
  {
   "cell_type": "code",
   "execution_count": 4,
   "id": "c55b4a62-fbd3-4ac9-9ce8-00332f034156",
   "metadata": {},
   "outputs": [],
   "source": [
    "%reset -f"
   ]
  },
  {
   "cell_type": "code",
   "execution_count": 5,
   "id": "8828e799-006c-472b-a800-af4b5ce310ac",
   "metadata": {},
   "outputs": [],
   "source": [
    "from femtoscope.inout.postprocess import ResultsPostProcessor\n",
    "result_pp = ResultsPostProcessor.from_files('test_offline_postprocessing')"
   ]
  },
  {
   "cell_type": "markdown",
   "id": "af38d858-1f8c-4384-8a42-cdb599e70fe2",
   "metadata": {},
   "source": [
    "From here, one can use the various attributes & `evaluate_at` that come with `result_pp`:"
   ]
  },
  {
   "cell_type": "code",
   "execution_count": 6,
   "id": "f363d267-a4be-4f57-a08d-9c7c3588ae30",
   "metadata": {},
   "outputs": [
    {
     "name": "stdout",
     "output_type": "stream",
     "text": [
      "[-5.01075384 -4.29675551 -5.01075496 ... -0.95882869 -0.95882866\n",
      " -0.97816027]\n"
     ]
    },
    {
     "data": {
      "image/png": "[encoded data removed]",
      "text/plain": [
       "<Figure size 500x400 with 1 Axes>"
      ]
     },
     "metadata": {},
     "output_type": "display_data"
    }
   ],
   "source": [
    "import numpy as np\n",
    "from matplotlib import pyplot as plt\n",
    "\n",
    "sol_int = result_pp.sol_int\n",
    "print(sol_int)\n",
    "\n",
    "X = np.linspace(0, 3, 50)\n",
    "Z = np.zeros_like(X)\n",
    "coors = np.concatenate((X[:, np.newaxis], Z[:, np.newaxis]), axis=1)\n",
    "grad = result_pp.evaluate_at(coors, key='sol_int', mode='grad')\n",
    "plt.figure(figsize=(5, 4))\n",
    "plt.plot(X, grad[:, 0])\n",
    "plt.show()"
   ]
  },
  {
   "cell_type": "code",
   "execution_count": 7,
   "id": "e199ce74-399b-4054-adbc-d187923c8489",
   "metadata": {},
   "outputs": [],
   "source": [
    "# Finally, remove the directory\n",
    "from pathlib import Path\n",
    "import shutil\n",
    "from femtoscope import RESULT_DIR\n",
    "dir_path = Path(RESULT_DIR / 'test_offline_postprocessing')\n",
    "shutil.rmtree(dir_path)"
   ]
  }
 ],
 "metadata": {
  "kernelspec": {
   "display_name": "Python 3 (ipykernel)",
   "language": "python",
   "name": "python3"
  },
  "language_info": {
   "codemirror_mode": {
    "name": "ipython",
    "version": 3
   },
   "file_extension": ".py",
   "mimetype": "text/x-python",
   "name": "python",
   "nbconvert_exporter": "python",
   "pygments_lexer": "ipython3",
   "version": "3.9.16"
  }
 },
 "nbformat": 4,
 "nbformat_minor": 5
}
