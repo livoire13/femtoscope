{
 "cells": [
  {
   "cell_type": "markdown",
   "id": "609fe4d4-6fe0-4c1a-926f-445330f20370",
   "metadata": {},
   "source": [
    "<h1 style=\"text-align: center;\">Periodic Boundary Conditions (chameleon)</h1>"
   ]
  },
  {
   "cell_type": "markdown",
   "id": "ecfb2a21-5f00-4963-8480-5e5fbcd08852",
   "metadata": {},
   "source": [
    "This notebook shows how to use periodic boundary conditions (epbc) with *femtoscope*. This type of boundary condition is useful e.g. in the study of various materials, because one only has to model a finite representative volume element. Here, we illustrate this feature on the chameleon Klein-Gordon equation.\n",
    "\n",
    "*prerequisites* :\n",
    "- FEM & periodic BC knowledge\n",
    "- `mesh_generation_basics` notebook\n",
    "- `nonlinear_problems` notebook\n",
    "\n",
    "**If you have questions/comments or want to report a bug, please send me an email at <a href=\"mailto:hugo.levy@onera.fr\">hugo.levy@onera.fr</a>**"
   ]
  },
  {
   "cell_type": "code",
   "execution_count": 1,
   "id": "9cc5ef84-b16c-4d59-a53f-01d1f20491bf",
   "metadata": {},
   "outputs": [
    {
     "name": "stdin",
     "output_type": "stream",
     "text": [
      "Once deleted, variables cannot be recovered. Proceed (y/[n])?  y\n"
     ]
    }
   ],
   "source": [
    "# Add femtoscope to the path\n",
    "%reset\n",
    "%matplotlib inline\n",
    "import sys\n",
    "sys.path.append(\"../\")  # go to parent dir"
   ]
  },
  {
   "cell_type": "code",
   "execution_count": 11,
   "id": "5dc10f4e-6bf0-4658-a81c-ef407b0780b3",
   "metadata": {},
   "outputs": [],
   "source": [
    "%%capture\n",
    "\n",
    "# Module imports\n",
    "import numpy as np\n",
    "import matplotlib.pyplot as plt\n",
    "\n",
    "import femtoscope\n",
    "from femtoscope.inout.meshfactory import generate_mesh_from_geo\n",
    "from femtoscope.physics.physical_problems import Chameleon"
   ]
  },
  {
   "cell_type": "markdown",
   "id": "eeae0b94-290d-4dba-a175-775de0aba8fe",
   "metadata": {},
   "source": [
    "## Mesh creation"
   ]
  },
  {
   "cell_type": "markdown",
   "id": "4ad391a8-ce01-45c7-96e4-44683d6b6a58",
   "metadata": {},
   "source": [
    "Periodic boundary conditions in femtoscope come with two requirements on the underlying mesh:\n",
    "1) the numerical domain must be a box (rectangle in 2D, rectangular prism in 3D);\n",
    "2) opposite sides must possess the same surface mesh up to a translation.\n",
    "\n",
    "The second condition can be imposed in Gmsh by using the commands `Periodic Curve` or `Periodic Surface` in the `.geo` script. Here we use the `cube_periodic.geo` script. Note that the boundary faces are not included in the physical groups, as they will be selected through functions at a later stage. This is because corner nodes have to belong to several faces simultaneously, which cannot be achieved with physical groups unfortunately."
   ]
  },
  {
   "cell_type": "code",
   "execution_count": 7,
   "id": "e6a4c9c0-b13f-4230-b4bb-74b20d9fc2d4",
   "metadata": {},
   "outputs": [],
   "source": [
    "# Mesh creation\n",
    "pre_mesh = generate_mesh_from_geo(\"cube_periodic\", param_dict={'size': 0.4}, show_mesh=True)"
   ]
  },
  {
   "cell_type": "markdown",
   "id": "945fac57-9012-454f-bccb-e1abe5503b40",
   "metadata": {},
   "source": [
    "## Chameleon problem"
   ]
  },
  {
   "cell_type": "code",
   "execution_count": 8,
   "id": "87e674b5-290f-4378-b864-5377c49f0ebe",
   "metadata": {},
   "outputs": [],
   "source": [
    "# Physical parameters\n",
    "alpha = 0.1  # chameleon dimensionless parameter\n",
    "npot = 1  # chameleon exponent\n",
    "rho_min = 0.1  # kg/m^3\n",
    "rho_max = 10  # kg/m^3\n",
    "phi_min = rho_max ** (-1 / (npot + 1))\n",
    "phi_max = rho_min ** (-1 / (npot + 1))\n",
    "param_dict = {'alpha': alpha, 'npot': npot, 'rho_min': rho_min, 'rho_max': rho_max}\n",
    "\n",
    "# FEM parameters\n",
    "fem_order = 1\n",
    "dim = 3\n",
    "coorsys = 'cartesian'\n",
    "\n",
    "# Entitiy selection\n",
    "def xface1(coors, domain=None):\n",
    "    return np.where(abs(coors[:, 0] - (-0.5)) < 1e-8)[0]\n",
    "\n",
    "def xface2(coors, domain=None):\n",
    "    return np.where(abs(coors[:, 0] - 0.5) < 1e-8)[0]\n",
    "\n",
    "def yface1(coors, domain=None):\n",
    "    return np.where(abs(coors[:, 1] - (-0.5)) < 1e-8)[0]\n",
    "\n",
    "def yface2(coors, domain=None):\n",
    "    return np.where(abs(coors[:, 1] - 0.5) < 1e-8)[0]\n",
    "\n",
    "def zface1(coors, domain=None):\n",
    "    return np.where(abs(coors[:, 2] - (-0.5)) < 1e-8)[0]\n",
    "\n",
    "def zface2(coors, domain=None):\n",
    "    return np.where(abs(coors[:, 2] - 0.5) < 1e-8)[0]\n",
    "\n",
    "dim_func_entities = [(2, xface1, 200), (2, xface2, 201),\n",
    "                     (2, yface1, 202), (2, yface2, 203),\n",
    "                     (2, zface1, 204), (2, zface2, 205)]\n",
    "\n",
    "# Density assignement\n",
    "density_dict = {('subomega', 300): rho_max, ('subomega', 301): rho_min}\n",
    "\n",
    "# EPBC\n",
    "pre_epbc_list = [[('facet', 200), ('facet', 201), 'match_x_plane'],\n",
    "                 [('facet', 202), ('facet', 203), 'match_y_plane'],\n",
    "                 [('facet', 204), ('facet', 205), 'match_z_plane']]\n",
    "\n",
    "# Chameleon problem\n",
    "chameleon = Chameleon(param_dict, dim, coorsys=coorsys)\n",
    "partial_args_dict = {\n",
    "    'dim': dim,\n",
    "    'name': 'wf_per',\n",
    "    'pre_mesh': pre_mesh,\n",
    "    'fem_order': fem_order,\n",
    "    'dim_func_entities': dim_func_entities,\n",
    "    'pre_epbc_list': pre_epbc_list\n",
    "}\n",
    "chameleon.set_wf_int(partial_args_dict, density_dict)\n",
    "chameleon.set_wf_residual(partial_args_dict, density_dict)\n",
    "chameleon.set_default_solver()\n",
    "chameleon.set_default_monitor(50)"
   ]
  },
  {
   "cell_type": "code",
   "execution_count": 9,
   "id": "c46e5d0f-304b-4fb0-bea9-99c503732e20",
   "metadata": {},
   "outputs": [
    {
     "name": "stdout",
     "output_type": "stream",
     "text": [
      "_________________________ MONITORING PARAMETERS __________________________\n",
      "                 criterion            look          active       threshold\n",
      "         MaximumIterations            True            True        5.00e+01\n",
      "RelativeDeltaSolutionNorm2            True            True        1.00e-08\n",
      "            ResidualVector            True           False       -1.00e+00\n",
      "       ResidualVectorNorm2            True           False       -1.00e+00\n",
      "   ResidualReductionFactor            True           False       -1.00e+00\n",
      "       ResidualVectorParts            True           False       -1.00e+00\n",
      "--------------------------------------------------------------------------\n",
      "\n",
      "_____________________ ITERATION NO 1 _____________________\n",
      "                 criterion           value       threshold\n",
      "         MaximumIterations        1.00e+00        5.00e+01\n",
      "RelativeDeltaSolutionNorm2        7.20e-01        1.00e-08\n",
      "       ResidualVectorNorm2        6.57e-02       -1.00e+00\n",
      "   ResidualReductionFactor        1.99e-01       -1.00e+00\n",
      "----------------------------------------------------------\n",
      "\n",
      "_____________________ ITERATION NO 2 _____________________\n",
      "                 criterion           value       threshold\n",
      "         MaximumIterations        2.00e+00        5.00e+01\n",
      "RelativeDeltaSolutionNorm2        2.65e-01        1.00e-08\n",
      "       ResidualVectorNorm2        1.59e-02       -1.00e+00\n",
      "   ResidualReductionFactor        4.83e-02       -1.00e+00\n",
      "----------------------------------------------------------\n",
      "\n",
      "_____________________ ITERATION NO 3 _____________________\n",
      "                 criterion           value       threshold\n",
      "         MaximumIterations        3.00e+00        5.00e+01\n",
      "RelativeDeltaSolutionNorm2        1.55e-01        1.00e-08\n",
      "       ResidualVectorNorm2        4.92e-03       -1.00e+00\n",
      "   ResidualReductionFactor        1.49e-02       -1.00e+00\n",
      "----------------------------------------------------------\n",
      "\n",
      "_____________________ ITERATION NO 4 _____________________\n",
      "                 criterion           value       threshold\n",
      "         MaximumIterations        4.00e+00        5.00e+01\n",
      "RelativeDeltaSolutionNorm2        6.01e-02        1.00e-08\n",
      "       ResidualVectorNorm2        3.00e-03       -1.00e+00\n",
      "   ResidualReductionFactor        9.11e-03       -1.00e+00\n",
      "----------------------------------------------------------\n",
      "\n",
      "_____________________ ITERATION NO 5 _____________________\n",
      "                 criterion           value       threshold\n",
      "         MaximumIterations        5.00e+00        5.00e+01\n",
      "RelativeDeltaSolutionNorm2        1.64e-02        1.00e-08\n",
      "       ResidualVectorNorm2        2.82e-03       -1.00e+00\n",
      "   ResidualReductionFactor        8.54e-03       -1.00e+00\n",
      "----------------------------------------------------------\n",
      "\n",
      "_____________________ ITERATION NO 6 _____________________\n",
      "                 criterion           value       threshold\n",
      "         MaximumIterations        6.00e+00        5.00e+01\n",
      "RelativeDeltaSolutionNorm2        3.62e-03        1.00e-08\n",
      "       ResidualVectorNorm2        2.80e-03       -1.00e+00\n",
      "   ResidualReductionFactor        8.49e-03       -1.00e+00\n",
      "----------------------------------------------------------\n",
      "\n",
      "_____________________ ITERATION NO 7 _____________________\n",
      "                 criterion           value       threshold\n",
      "         MaximumIterations        7.00e+00        5.00e+01\n",
      "RelativeDeltaSolutionNorm2        7.40e-04        1.00e-08\n",
      "       ResidualVectorNorm2        2.80e-03       -1.00e+00\n",
      "   ResidualReductionFactor        8.48e-03       -1.00e+00\n",
      "----------------------------------------------------------\n",
      "\n",
      "_____________________ ITERATION NO 8 _____________________\n",
      "                 criterion           value       threshold\n",
      "         MaximumIterations        8.00e+00        5.00e+01\n",
      "RelativeDeltaSolutionNorm2        1.49e-04        1.00e-08\n",
      "       ResidualVectorNorm2        2.80e-03       -1.00e+00\n",
      "   ResidualReductionFactor        8.48e-03       -1.00e+00\n",
      "----------------------------------------------------------\n",
      "\n",
      "_____________________ ITERATION NO 9 _____________________\n",
      "                 criterion           value       threshold\n",
      "         MaximumIterations        9.00e+00        5.00e+01\n",
      "RelativeDeltaSolutionNorm2        2.98e-05        1.00e-08\n",
      "       ResidualVectorNorm2        2.80e-03       -1.00e+00\n",
      "   ResidualReductionFactor        8.48e-03       -1.00e+00\n",
      "----------------------------------------------------------\n",
      "\n",
      "____________________ ITERATION NO 10 _____________________\n",
      "                 criterion           value       threshold\n",
      "         MaximumIterations        1.00e+01        5.00e+01\n",
      "RelativeDeltaSolutionNorm2        5.95e-06        1.00e-08\n",
      "       ResidualVectorNorm2        2.80e-03       -1.00e+00\n",
      "   ResidualReductionFactor        8.48e-03       -1.00e+00\n",
      "----------------------------------------------------------\n",
      "\n",
      "____________________ ITERATION NO 11 _____________________\n",
      "                 criterion           value       threshold\n",
      "         MaximumIterations        1.10e+01        5.00e+01\n",
      "RelativeDeltaSolutionNorm2        1.19e-06        1.00e-08\n",
      "       ResidualVectorNorm2        2.80e-03       -1.00e+00\n",
      "   ResidualReductionFactor        8.48e-03       -1.00e+00\n",
      "----------------------------------------------------------\n",
      "\n",
      "____________________ ITERATION NO 12 _____________________\n",
      "                 criterion           value       threshold\n",
      "         MaximumIterations        1.20e+01        5.00e+01\n",
      "RelativeDeltaSolutionNorm2        2.38e-07        1.00e-08\n",
      "       ResidualVectorNorm2        2.80e-03       -1.00e+00\n",
      "   ResidualReductionFactor        8.48e-03       -1.00e+00\n",
      "----------------------------------------------------------\n",
      "\n",
      "____________________ ITERATION NO 13 _____________________\n",
      "                 criterion           value       threshold\n",
      "         MaximumIterations        1.30e+01        5.00e+01\n",
      "RelativeDeltaSolutionNorm2        4.76e-08        1.00e-08\n",
      "       ResidualVectorNorm2        2.80e-03       -1.00e+00\n",
      "   ResidualReductionFactor        8.48e-03       -1.00e+00\n",
      "----------------------------------------------------------\n",
      "\n",
      "____________________ ITERATION NO 14 _____________________\n",
      "                 criterion           value       threshold\n",
      "         MaximumIterations        1.40e+01        5.00e+01\n",
      "RelativeDeltaSolutionNorm2        9.53e-09        1.00e-08\n",
      "       ResidualVectorNorm2        2.80e-03       -1.00e+00\n",
      "   ResidualReductionFactor        8.48e-03       -1.00e+00\n",
      "----------------------------------------------------------\n",
      "\n",
      "End of iterations: the relative variation of the solution vector (in 2-norm) between two consecutive iterations is smaller than the specified threshold = 1.0e-08\n",
      "________________________________ RECAP OF ALL ITERATIONS ________________________________\n",
      "      iter       RelativeDeltaSolutionNorm2  ResidualVectorNorm2  ResidualReductionFactor\n",
      "           0                   NaN                3.30e-01               1.00e+00        \n",
      "           1              7.20e-01                6.57e-02               1.99e-01        \n",
      "           2              2.65e-01                1.59e-02               4.83e-02        \n",
      "           3              1.55e-01                4.92e-03               1.49e-02        \n",
      "           4              6.01e-02                3.00e-03               9.11e-03        \n",
      "           5              1.64e-02                2.82e-03               8.54e-03        \n",
      "           6              3.62e-03                2.80e-03               8.49e-03        \n",
      "           7              7.40e-04                2.80e-03               8.48e-03        \n",
      "           8              1.49e-04                2.80e-03               8.48e-03        \n",
      "           9              2.98e-05                2.80e-03               8.48e-03        \n",
      "          10              5.95e-06                2.80e-03               8.48e-03        \n",
      "          11              1.19e-06                2.80e-03               8.48e-03        \n",
      "          12              2.38e-07                2.80e-03               8.48e-03        \n",
      "          13              4.76e-08                2.80e-03               8.48e-03        \n",
      "          14              9.53e-09                2.80e-03               8.48e-03        \n",
      "   threshold              1.00e-08               -1.00e+00              -1.00e+00        \n",
      "-----------------------------------------------------------------------------------------\n",
      "\n"
     ]
    }
   ],
   "source": [
    "solver = chameleon.default_solver\n",
    "solver.solve()"
   ]
  },
  {
   "cell_type": "markdown",
   "id": "56e9eec0-4b78-41fd-9e09-45440cf95288",
   "metadata": {},
   "source": [
    "As shown in the other tutorials (especially the `offline_postprocessing` notebook), the results of this FEM computation can be saved to a .vtk file. Then, one can use third-party tools such as `paraview` to inspect the solution, *femtoscope* having no built-in routines to inspect 3-dimensional data."
   ]
  },
  {
   "cell_type": "code",
   "execution_count": 12,
   "id": "37b0c231-b3c4-417a-84ee-363713dc4b61",
   "metadata": {},
   "outputs": [
    {
     "name": "stdout",
     "output_type": "stream",
     "text": [
      "D:\\hlevy\\Documents\\femtoscope\\data\\tmp\n"
     ]
    }
   ],
   "source": [
    "# Save the results to a .vtk file\n",
    "solver.save_results_to_vtk('chameleon_periodic_tutorial')  # file saved to TMP_DIR\n",
    "print(femtoscope.TMP_DIR)"
   ]
  }
 ],
 "metadata": {
  "kernelspec": {
   "display_name": "Python 3 (ipykernel)",
   "language": "python",
   "name": "python3"
  },
  "language_info": {
   "codemirror_mode": {
    "name": "ipython",
    "version": 3
   },
   "file_extension": ".py",
   "mimetype": "text/x-python",
   "name": "python",
   "nbconvert_exporter": "python",
   "pygments_lexer": "ipython3",
   "version": "3.9.16"
  }
 },
 "nbformat": 4,
 "nbformat_minor": 5
}
